{
 "cells": [
  {
   "cell_type": "code",
   "execution_count": 1,
   "metadata": {},
   "outputs": [
    {
     "ename": "ModuleNotFoundError",
     "evalue": "No module named 'openai'",
     "output_type": "error",
     "traceback": [
      "\u001b[0;31m---------------------------------------------------------------------------\u001b[0m",
      "\u001b[0;31mModuleNotFoundError\u001b[0m                       Traceback (most recent call last)",
      "Cell \u001b[0;32mIn[1], line 3\u001b[0m\n\u001b[1;32m      1\u001b[0m \u001b[38;5;28;01mimport\u001b[39;00m \u001b[38;5;21;01mjson\u001b[39;00m\n\u001b[1;32m      2\u001b[0m \u001b[38;5;28;01mimport\u001b[39;00m \u001b[38;5;21;01mos\u001b[39;00m\n\u001b[0;32m----> 3\u001b[0m \u001b[38;5;28;01mfrom\u001b[39;00m \u001b[38;5;21;01mdoctran\u001b[39;00m \u001b[38;5;28;01mimport\u001b[39;00m Doctran, ExtractProperty\n",
      "File \u001b[0;32m~/Desktop/doctran/doctran/__init__.py:1\u001b[0m\n\u001b[0;32m----> 1\u001b[0m \u001b[38;5;28;01mfrom\u001b[39;00m \u001b[38;5;21;01m.\u001b[39;00m\u001b[38;5;21;01mdoctran\u001b[39;00m \u001b[38;5;28;01mimport\u001b[39;00m Doctran, Document, DoctranConfig, ContentType, ExtractProperty, RecognizerEntity, Transformation\n",
      "File \u001b[0;32m~/Desktop/doctran/doctran/doctran.py:4\u001b[0m\n\u001b[1;32m      2\u001b[0m \u001b[38;5;28;01mimport\u001b[39;00m \u001b[38;5;21;01mimportlib\u001b[39;00m\n\u001b[1;32m      3\u001b[0m \u001b[38;5;28;01mimport\u001b[39;00m \u001b[38;5;21;01myaml\u001b[39;00m\n\u001b[0;32m----> 4\u001b[0m \u001b[38;5;28;01mimport\u001b[39;00m \u001b[38;5;21;01mopenai\u001b[39;00m\n\u001b[1;32m      5\u001b[0m \u001b[38;5;28;01mimport\u001b[39;00m \u001b[38;5;21;01muuid\u001b[39;00m\n\u001b[1;32m      6\u001b[0m \u001b[38;5;28;01mfrom\u001b[39;00m \u001b[38;5;21;01menum\u001b[39;00m \u001b[38;5;28;01mimport\u001b[39;00m Enum\n",
      "\u001b[0;31mModuleNotFoundError\u001b[0m: No module named 'openai'"
     ]
    }
   ],
   "source": [
    "import json\n",
    "import os\n",
    "from doctran import Doctran, ExtractProperty"
   ]
  },
  {
   "cell_type": "code",
   "execution_count": 2,
   "metadata": {},
   "outputs": [],
   "source": [
    "from dotenv import load_dotenv\n",
    "\n",
    "load_dotenv(\".env\")\n",
    "OPENAI_API_KEY = os.getenv(\"OPENAI_API_KEY\")\n",
    "OPENAI_MODEL = \"gpt-4\"\n",
    "OPENAI_TOKEN_LIMIT = 8000"
   ]
  },
  {
   "attachments": {},
   "cell_type": "markdown",
   "metadata": {},
   "source": [
    "### Load Sample Content"
   ]
  },
  {
   "cell_type": "code",
   "execution_count": 3,
   "metadata": {},
   "outputs": [
    {
     "name": "stdout",
     "output_type": "stream",
     "text": [
      "[Generated with ChatGPT]\n",
      "\n",
      "Confidential Document - For Internal Use Only\n",
      "\n",
      "Date: July 1, 2023\n",
      "\n",
      "Subject: Updates and Discussions on Various Topics\n",
      "\n",
      "Dear Team,\n",
      "\n",
      "I hope this email finds you well. In this document, I would like to provide you with some important updates and discuss various topics that require our attention. Please treat the information contained herein as highly confidential.\n",
      "\n",
      "Security and Privacy Measures\n",
      "As part of our ongoing commitment to ensure the security and privacy of our customers' data, we have implemented robust measures across all our systems. We would like to commend John Doe (email: john.doe@example.com) from the IT department for his diligent work in enhancing our network security. Moving forward, we kindly remind everyone to strictly adhere to our data protection policies and guidelines. Additionally, if you come across any potential security risks or incidents, please report them immediately to our dedicated team at security@example.com.\n",
      "\n",
      "HR Updates and Employee Benefits\n",
      "Recently, we welcomed several new team members who have made significant contributions to their respective departments. I would like to recognize Jane Smith (SSN: 049-45-5928) for her outstanding performance in customer service. Jane has consistently received positive feedback from our clients. Furthermore, please remember that the open enrollment period for our employee benefits program is fast approaching. Should you have any questions or require assistance, please contact our HR representative, Michael Johnson (phone: 418-492-3850, email: michael.johnson@example.com).\n",
      "\n",
      "Marketing Initiatives and Campaigns\n",
      "Our marketing team has been actively working on developing new strategies to increase brand awareness and drive customer engagement. We would like to thank Sarah Thompson (phone: 415-555-1234) for her exceptional efforts in managing our social media platforms. Sarah has successfully increased our follower base by 20% in the past month alone. Moreover, please mark your calendars for the upcoming product launch event on July 15th. We encourage all team members to attend and support this exciting milestone for our company.\n",
      "\n",
      "Research and Development Projects\n",
      "In our pursuit of innovation, our research and development department has been working tirelessly on various projects. I would like to acknowledge the exceptional work of David Rodriguez (email: david.rodriguez@example.com) in his role as project lead. David's contributions to the development of our cutting-edge technology have been instrumental. Furthermore, we would like to remind everyone to share their ideas and suggestions for potential new projects during our monthly R&D brainstorming session, scheduled for July 10th.\n",
      "\n",
      "Please treat the information in this document with utmost confidentiality and ensure that it is not shared with unauthorized individuals. If you have any questions or concerns regarding the topics discussed, please do not hesitate to reach out to me directly.\n",
      "\n",
      "Thank you for your attention, and let's continue to work together to achieve our goals.\n",
      "\n",
      "Best regards,\n",
      "\n",
      "Jason Fan\n",
      "Cofounder & CEO\n",
      "Psychic\n",
      "jason@psychic.dev\n"
     ]
    }
   ],
   "source": [
    "content = \"\"\n",
    "with open('sample.txt', 'r') as file:\n",
    "    content = file.read()\n",
    "print(content)"
   ]
  },
  {
   "cell_type": "code",
   "execution_count": 4,
   "metadata": {},
   "outputs": [],
   "source": [
    "doctran = Doctran(openai_api_key=OPENAI_API_KEY, openai_model=OPENAI_MODEL, openai_token_limit=OPENAI_TOKEN_LIMIT)\n",
    "document = doctran.parse(content=content)"
   ]
  },
  {
   "attachments": {},
   "cell_type": "markdown",
   "metadata": {},
   "source": [
    "### Extract properties\n",
    "Uses OpenAI function calling to extract JSON data from any document. This is extremely flexible and can be used to classify, rewrite, or extract properties from unstructured text."
   ]
  },
  {
   "cell_type": "code",
   "execution_count": 6,
   "metadata": {},
   "outputs": [
    {
     "name": "stdout",
     "output_type": "stream",
     "text": [
      "{\n",
      "  \"millenial_or_boomer\": \"boomer\",\n",
      "  \"as_gen_z\": \"Hey team, \\n\\nHope you're all good! Just a quick update on what's been happening. We've been working hard to keep our customers' data safe and sound, big shoutout to John Doe (john.doe@example.com) for his work on this. Remember to keep following our data protection rules, and if you see anything sketchy, let our security team know at security@example.com. \\n\\nWe've got some new faces in the team who are killing it! Jane Smith has been amazing in customer service, and don't forget, it's almost time to sign up for our employee benefits program. If you need help with this, hit up Michael Johnson (phone: 418-492-3850, email: michael.johnson@example.com). \\n\\nOur marketing team has been on fire, especially Sarah Thompson (phone: 415-555-1234) who's been bossing our social media. Also, don't forget about our product launch on July 15th - it's gonna be lit! \\n\\nOur R&D team has been grinding away on some cool projects, with David Rodriguez (david.rodriguez@example.com) leading the way. Don't forget to bring your ideas to our brainstorming session on July 10th. \\n\\nRemember, all this info is top secret, so don't share it around. If you've got any questions, just hit me up. \\n\\nThanks, and let's keep smashing it! \\n\\nJason Fan\",\n",
      "  \"contact_info\": [\n",
      "    {\n",
      "      \"name\": \"John Doe\",\n",
      "      \"contact_info\": {\n",
      "        \"phone\": \"\",\n",
      "        \"email\": \"john.doe@example.com\"\n",
      "      }\n",
      "    },\n",
      "    {\n",
      "      \"name\": \"Michael Johnson\",\n",
      "      \"contact_info\": {\n",
      "        \"phone\": \"418-492-3850\",\n",
      "        \"email\": \"michael.johnson@example.com\"\n",
      "      }\n",
      "    },\n",
      "    {\n",
      "      \"name\": \"Sarah Thompson\",\n",
      "      \"contact_info\": {\n",
      "        \"phone\": \"415-555-1234\",\n",
      "        \"email\": \"\"\n",
      "      }\n",
      "    },\n",
      "    {\n",
      "      \"name\": \"David Rodriguez\",\n",
      "      \"contact_info\": {\n",
      "        \"phone\": \"\",\n",
      "        \"email\": \"david.rodriguez@example.com\"\n",
      "      }\n",
      "    },\n",
      "    {\n",
      "      \"name\": \"Jason Fan\",\n",
      "      \"contact_info\": {\n",
      "        \"phone\": \"\",\n",
      "        \"email\": \"jason@psychic.dev\"\n",
      "      }\n",
      "    }\n",
      "  ]\n",
      "}\n"
     ]
    }
   ],
   "source": [
    "properties = [\n",
    "        ExtractProperty(\n",
    "            name=\"millenial_or_boomer\", \n",
    "            description=\"A prediction of whether this document was written by a millenial or boomer\",\n",
    "            type=\"string\",\n",
    "            enum=[\"millenial\", \"boomer\"],\n",
    "            required=True\n",
    "        ),\n",
    "        ExtractProperty(\n",
    "            name=\"as_gen_z\", \n",
    "            description=\"The document summarized and rewritten as if it were authored by a Gen Z person\",\n",
    "            type=\"string\",\n",
    "            required=True\n",
    "        ),\n",
    "        ExtractProperty(\n",
    "            name=\"contact_info\", \n",
    "            description=\"A list of each person mentioned and their contact information\",\n",
    "            type=\"array\",\n",
    "            items={\n",
    "                \"type\": \"object\",\n",
    "                \"properties\": {\n",
    "                    \"name\": {\n",
    "                        \"type\": \"string\",\n",
    "                        \"description\": \"The name of the person\"\n",
    "                    },\n",
    "                    \"contact_info\": {\n",
    "                        \"type\": \"object\",\n",
    "                        \"properties\": {\n",
    "                            \"phone\": {\n",
    "                                \"type\": \"string\",\n",
    "                                \"description\": \"The phone number of the person\"\n",
    "                            },\n",
    "                            \"email\": {\n",
    "                                \"type\": \"string\",\n",
    "                                \"description\": \"The email address of the person\"\n",
    "                            }\n",
    "                        }\n",
    "                    }\n",
    "                }\n",
    "            },\n",
    "            required=True\n",
    "        )\n",
    "]\n",
    "transformed_document = document.extract(properties=properties).execute()\n",
    "print(json.dumps(transformed_document.extracted_properties, indent=2))"
   ]
  },
  {
   "attachments": {},
   "cell_type": "markdown",
   "metadata": {},
   "source": [
    "### Redact Sensitive Information\n",
    "Uses a spaCy model to remove names, emails, phone numbers and other sensitive information from a document. Runs locally to avoid sending sensitive data to third party APIs."
   ]
  },
  {
   "cell_type": "code",
   "execution_count": 6,
   "metadata": {},
   "outputs": [
    {
     "name": "stdout",
     "output_type": "stream",
     "text": [
      "[Generated with ChatGPT]\n",
      "\n",
      "Confidential Document - For Internal Use Only\n",
      "\n",
      "Date: July 1, 2023\n",
      "\n",
      "Subject: Updates and Discussions on Various Topics\n",
      "\n",
      "Dear Team,\n",
      "\n",
      "I hope this email finds you well. In this document, I would like to provide you with some important updates and discuss various topics that require our attention. Please treat the information contained herein as highly confidential.\n",
      "\n",
      "Security and Privacy Measures\n",
      "As part of our ongoing commitment to ensure the security and privacy of our customers' data, we have implemented robust measures across all our systems. We would like to commend <PERSON> (email: <EMAIL_ADDRESS>) from the IT department for his diligent work in enhancing our network security. Moving forward, we kindly remind everyone to strictly adhere to our data protection policies and guidelines. Additionally, if you come across any potential security risks or incidents, please report them immediately to our dedicated team at <EMAIL_ADDRESS>.\n",
      "\n",
      "HR Updates and Employee Benefits\n",
      "Recently, we welcomed several new team members who have made significant contributions to their respective departments. I would like to recognize <PERSON> (SSN: <US_SSN>) for her outstanding performance in customer service. <PERSON> has consistently received positive feedback from our clients. Furthermore, please remember that the open enrollment period for our employee benefits program is fast approaching. Should you have any questions or require assistance, please contact our HR representative, <PERSON> (phone: <PHONE_NUMBER>, email: <EMAIL_ADDRESS>).\n",
      "\n",
      "Marketing Initiatives and Campaigns\n",
      "Our marketing team has been actively working on developing new strategies to increase brand awareness and drive customer engagement. We would like to thank <PERSON> (phone: <PHONE_NUMBER>) for her exceptional efforts in managing our social media platforms. <PERSON> has successfully increased our follower base by 20% in the past month alone. Moreover, please mark your calendars for the upcoming product launch event on July 15th. We encourage all team members to attend and support this exciting milestone for our company.\n",
      "\n",
      "Research and Development Projects\n",
      "In our pursuit of innovation, our research and development department has been working tirelessly on various projects. I would like to acknowledge the exceptional work of <PERSON> (email: <EMAIL_ADDRESS>) in his role as project lead. <PERSON>'s contributions to the development of our cutting-edge technology have been instrumental. Furthermore, we would like to remind everyone to share their ideas and suggestions for potential new projects during our monthly R&D brainstorming session, scheduled for July 10th.\n",
      "\n",
      "Please treat the information in this document with utmost confidentiality and ensure that it is not shared with unauthorized individuals. If you have any questions or concerns regarding the topics discussed, please do not hesitate to reach out to me directly.\n",
      "\n",
      "Thank you for your attention, and let's continue to work together to achieve our goals.\n",
      "\n",
      "Best regards,\n",
      "\n",
      "<PERSON>\n",
      "Psychic\n",
      "<EMAIL_ADDRESS>\n"
     ]
    }
   ],
   "source": [
    "transformed_document = document.redact(entities=[\"PERSON\", \"EMAIL_ADDRESS\", \"PHONE_NUMBER\", \"US_SSN\"], interactive=False).execute()\n",
    "print(transformed_document.transformed_content)"
   ]
  },
  {
   "attachments": {},
   "cell_type": "markdown",
   "metadata": {},
   "source": [
    "### Summarize Context\n",
    "Summarize the information in a document."
   ]
  },
  {
   "cell_type": "code",
   "execution_count": 15,
   "metadata": {},
   "outputs": [
    {
     "name": "stdout",
     "output_type": "stream",
     "text": [
      "The document discusses updates on security measures, HR, marketing initiatives, and R&D projects. It commends John Doe for enhancing network security, welcomes new team members, and recognizes Jane Smith for her customer service. It also mentions the open enrollment period for employee benefits, thanks Sarah Thompson for her social media efforts, and announces a product launch event on July 15th. David Rodriguez is acknowledged for his contributions to R&D. The document emphasizes the importance of confidentiality.\n"
     ]
    }
   ],
   "source": [
    "transformed_document = document.summarize(token_limit=100).execute()\n",
    "print(transformed_document.transformed_content)"
   ]
  },
  {
   "attachments": {},
   "cell_type": "markdown",
   "metadata": {},
   "source": [
    "### Refine Context\n",
    "Remove all information from a document unless it's related to a specific set of topics."
   ]
  },
  {
   "cell_type": "code",
   "execution_count": 16,
   "metadata": {},
   "outputs": [
    {
     "name": "stdout",
     "output_type": "stream",
     "text": [
      "Confidential Document - For Internal Use Only\n",
      "\n",
      "Date: July 1, 2023\n",
      "\n",
      "Subject: Updates and Discussions on Various Topics\n",
      "\n",
      "Dear Team,\n",
      "\n",
      "I hope this email finds you well. In this document, I would like to provide you with some important updates and discuss various topics that require our attention. Please treat the information contained herein as highly confidential.\n",
      "\n",
      "Marketing Initiatives and Campaigns\n",
      "Our marketing team has been actively working on developing new strategies to increase brand awareness and drive customer engagement. We would like to thank Sarah Thompson for her exceptional efforts in managing our social media platforms. Sarah has successfully increased our follower base by 20% in the past month alone. Moreover, please mark your calendars for the upcoming product launch event on July 15th. We encourage all team members to attend and support this exciting milestone for our company.\n",
      "\n",
      "Please treat the information in this document with utmost confidentiality and ensure that it is not shared with unauthorized individuals. If you have any questions or concerns regarding the topics discussed, please do not hesitate to reach out to me directly.\n",
      "\n",
      "Thank you for your attention, and let's continue to work together to achieve our goals.\n",
      "\n",
      "Best regards,\n",
      "\n",
      "Jason Fan\n",
      "Cofounder & CEO\n",
      "Psychic\n"
     ]
    }
   ],
   "source": [
    "transformed_document = document.refine(topics=['marketing', 'company events']).execute()\n",
    "print(transformed_document.transformed_content)"
   ]
  },
  {
   "attachments": {},
   "cell_type": "markdown",
   "metadata": {},
   "source": [
    "### Translate Language\n",
    "Translate text into another language."
   ]
  },
  {
   "cell_type": "code",
   "execution_count": 17,
   "metadata": {},
   "outputs": [
    {
     "name": "stdout",
     "output_type": "stream",
     "text": [
      "[Generado con ChatGPT]\n",
      "\n",
      "Documento confidencial - Solo para uso interno\n",
      "\n",
      "Fecha: 1 de julio de 2023\n",
      "\n",
      "Asunto: Actualizaciones y discusiones sobre varios temas\n",
      "\n",
      "Estimado equipo,\n",
      "\n",
      "Espero que este correo electrónico les encuentre bien. En este documento, me gustaría proporcionarles algunas actualizaciones importantes y discutir varios temas que requieren nuestra atención. Por favor, traten la información contenida aquí como altamente confidencial.\n",
      "\n",
      "Medidas de seguridad y privacidad\n",
      "Como parte de nuestro compromiso continuo para garantizar la seguridad y privacidad de los datos de nuestros clientes, hemos implementado medidas robustas en todos nuestros sistemas. Nos gustaría elogiar a John Doe (correo electrónico: john.doe@example.com) del departamento de TI por su diligente trabajo en mejorar nuestra seguridad de red. En adelante, recordamos amablemente a todos que se adhieran estrictamente a nuestras políticas y directrices de protección de datos. Además, si se encuentran con posibles riesgos o incidentes de seguridad, por favor repórtelos inmediatamente a nuestro equipo dedicado en security@example.com.\n",
      "\n",
      "Actualizaciones de RRHH y beneficios para empleados\n",
      "Recientemente, dimos la bienvenida a varios nuevos miembros del equipo que han hecho contribuciones significativas a sus respectivos departamentos. Me gustaría reconocer a Jane Smith (SSN: 123-45-6789) por su sobresaliente desempeño en el servicio al cliente. Jane ha recibido consistentemente comentarios positivos de nuestros clientes. Además, recuerden que el período de inscripción abierta para nuestro programa de beneficios para empleados se acerca rápidamente. Si tienen alguna pregunta o necesitan asistencia, por favor contacten a nuestro representante de RRHH, Michael Johnson (teléfono: 418-492-3850, correo electrónico: michael.johnson@example.com).\n",
      "\n",
      "Iniciativas y campañas de marketing\n",
      "Nuestro equipo de marketing ha estado trabajando activamente en el desarrollo de nuevas estrategias para aumentar la conciencia de marca y fomentar la participación de los clientes. Nos gustaría agradecer a Sarah Thompson (teléfono: 415-555-1234) por sus excepcionales esfuerzos en la gestión de nuestras plataformas de redes sociales. Sarah ha aumentado con éxito nuestra base de seguidores en un 20% solo en el último mes. Además, marquen sus calendarios para el próximo evento de lanzamiento de producto el 15 de julio. Animamos a todos los miembros del equipo a asistir y apoyar este emocionante hito para nuestra empresa.\n",
      "\n",
      "Proyectos de investigación y desarrollo\n",
      "En nuestra búsqueda de la innovación, nuestro departamento de investigación y desarrollo ha estado trabajando incansablemente en varios proyectos. Me gustaría reconocer el excepcional trabajo de David Rodríguez (correo electrónico: david.rodriguez@example.com) en su papel de líder de proyecto. Las contribuciones de David al desarrollo de nuestra tecnología de vanguardia han sido fundamentales. Además, nos gustaría recordar a todos que compartan sus ideas y sugerencias para posibles nuevos proyectos durante nuestra sesión de lluvia de ideas de I+D mensual, programada para el 10 de julio.\n",
      "\n",
      "Por favor, traten la información de este documento con la máxima confidencialidad y asegúrense de que no se comparte con personas no autorizadas. Si tienen alguna pregunta o inquietud sobre los temas discutidos, no duden en ponerse en contacto conmigo directamente.\n",
      "\n",
      "Gracias por su atención, y sigamos trabajando juntos para alcanzar nuestros objetivos.\n",
      "\n",
      "Saludos cordiales,\n",
      "\n",
      "Jason Fan\n",
      "Cofundador y CEO\n",
      "Psychic\n",
      "jason@psychic.dev\n"
     ]
    }
   ],
   "source": [
    "transformed_document = document.translate(language=\"spanish\").execute()\n",
    "print(transformed_document.transformed_content)"
   ]
  },
  {
   "attachments": {},
   "cell_type": "markdown",
   "metadata": {},
   "source": [
    "### Interrogate\n",
    "Convert information in a document into question and answer format. End user queries often take the form of a question, so converting information into questions and creating indexes from these questions often yields better results when using a vector database for context retrieval."
   ]
  },
  {
   "cell_type": "code",
   "execution_count": 7,
   "metadata": {},
   "outputs": [
    {
     "name": "stdout",
     "output_type": "stream",
     "text": [
      "{\n",
      "  \"questions_and_answers\": [\n",
      "    {\n",
      "      \"question\": \"What is the purpose of this document?\",\n",
      "      \"answer\": \"The purpose of this document is to provide important updates and discuss various topics that require the team's attention.\"\n",
      "    },\n",
      "    {\n",
      "      \"question\": \"Who is commended for enhancing the company's network security?\",\n",
      "      \"answer\": \"John Doe from the IT department is commended for enhancing the company's network security.\"\n",
      "    },\n",
      "    {\n",
      "      \"question\": \"Who should be contacted in case of potential security risks or incidents?\",\n",
      "      \"answer\": \"Potential security risks or incidents should be reported to the dedicated team at security@example.com.\"\n",
      "    },\n",
      "    {\n",
      "      \"question\": \"Who has been recognized for her outstanding performance in customer service?\",\n",
      "      \"answer\": \"Jane Smith has been recognized for her outstanding performance in customer service.\"\n",
      "    },\n",
      "    {\n",
      "      \"question\": \"Who is the HR representative to contact for questions or assistance regarding the employee benefits program?\",\n",
      "      \"answer\": \"Michael Johnson is the HR representative to contact for questions or assistance regarding the employee benefits program.\"\n",
      "    },\n",
      "    {\n",
      "      \"question\": \"Who has been thanked for her exceptional efforts in managing the company's social media platforms?\",\n",
      "      \"answer\": \"Sarah Thompson has been thanked for her exceptional efforts in managing the company's social media platforms.\"\n",
      "    },\n",
      "    {\n",
      "      \"question\": \"When is the upcoming product launch event?\",\n",
      "      \"answer\": \"The upcoming product launch event is on July 15th.\"\n",
      "    },\n",
      "    {\n",
      "      \"question\": \"Who has been acknowledged for his exceptional work as project lead in the research and development department?\",\n",
      "      \"answer\": \"David Rodriguez has been acknowledged for his exceptional work as project lead in the research and development department.\"\n",
      "    },\n",
      "    {\n",
      "      \"question\": \"When is the monthly R&D brainstorming session scheduled?\",\n",
      "      \"answer\": \"The monthly R&D brainstorming session is scheduled for July 10th.\"\n",
      "    },\n",
      "    {\n",
      "      \"question\": \"Who is the author of this document?\",\n",
      "      \"answer\": \"The author of this document is Jason Fan, the Cofounder & CEO of Psychic.\"\n",
      "    }\n",
      "  ]\n",
      "}\n"
     ]
    }
   ],
   "source": [
    "transformed_document = document.interrogate().execute()\n",
    "print(json.dumps(transformed_document.extracted_properties, indent=2))"
   ]
  },
  {
   "cell_type": "markdown",
   "metadata": {},
   "source": [
    "### Process Template\n",
    "Take some text with templatized placeholders {like this} and replace the placeholders with values that correspond to the instructions in those placeholders. Useful for generating emails or variations on some text while modifying only the content in the {placeholders}. Can use any regex to detect placeholders, but the most common one is {} which can be matched with Regex expression `\\{([^}]*)\\}`."
   ]
  },
  {
   "cell_type": "code",
   "execution_count": 6,
   "metadata": {},
   "outputs": [
    {
     "name": "stdout",
     "output_type": "stream",
     "text": [
      "My name is John. Today is Monday. On this day, I like to get to work at 5:00 AM. The first thing I do at work is check my emails.\n",
      "\n",
      "{\n",
      "  \"replacements\": [\n",
      "    {\n",
      "      \"index\": 0,\n",
      "      \"placeholder\": \"common american name\",\n",
      "      \"replaced_value\": \"John\"\n",
      "    },\n",
      "    {\n",
      "      \"index\": 1,\n",
      "      \"placeholder\": \"first day of the work week\",\n",
      "      \"replaced_value\": \"Monday\"\n",
      "    },\n",
      "    {\n",
      "      \"index\": 2,\n",
      "      \"placeholder\": \"some unreasonably early time in the morning\",\n",
      "      \"replaced_value\": \"5:00 AM\"\n",
      "    },\n",
      "    {\n",
      "      \"index\": 3,\n",
      "      \"placeholder\": \"some arbitrary task\",\n",
      "      \"replaced_value\": \"check my emails\"\n",
      "    }\n",
      "  ]\n",
      "}\n"
     ]
    }
   ],
   "source": [
    "template_string = \"\"\"My name is {common american name}. Today is {first day of the work week}. On this day, I like to get to work at {some unreasonably early time in the morning}. The first thing I do at work is {some arbitrary task}.\"\"\"\n",
    "template = doctran.parse(content=template_string)\n",
    "\n",
    "transformed_document = template.process_template(template_regex=\"\\{([^}]*)\\}\").execute()\n",
    "print(transformed_document.transformed_content + \"\\n\")\n",
    "print(json.dumps(transformed_document.extracted_properties, indent=2))"
   ]
  },
  {
   "attachments": {},
   "cell_type": "markdown",
   "metadata": {},
   "source": [
    "## Chaining transformations\n",
    "You can chain transformations together and execute them in a single step:"
   ]
  },
  {
   "cell_type": "code",
   "execution_count": 12,
   "metadata": {},
   "outputs": [
    {
     "name": "stdout",
     "output_type": "stream",
     "text": [
      "Le document est une communication interne confidentielle discutant des mises à jour sur les mesures de sécurité et de confidentialité, des mises à jour des RH et des avantages des employés, des initiatives et campagnes de marketing, et des projets de recherche et développement. Il met en évidence les contributions de membres spécifiques de l'équipe dans chaque domaine, rappelle l'adhésion aux politiques de protection des données, la prochaine période d'inscription aux avantages, un événement de lancement de produit et une séance de remue-méninges R&D. Le document souligne l'importance de maintenir la confidentialité des informations partagées.\n"
     ]
    }
   ],
   "source": [
    "transformed_document = (document\n",
    "                              .redact(entities=[\"PERSON\", \"EMAIL_ADDRESS\", \"PHONE_NUMBER\", \"US_SSN\"])\n",
    "                              .summarize(token_limit=100)\n",
    "                              .translate(language=\"french\")\n",
    "                              .execute()\n",
    "                              )\n",
    "print(transformed_document.transformed_content)"
   ]
  },
  {
   "attachments": {},
   "cell_type": "markdown",
   "metadata": {},
   "source": [
    "### Cookbook\n",
    "* **Redact** information with a local spaCy model before sending it to OpenAI to **summarize**\n",
    "* **Refine** information to focus on specific topics, then **interrogate** the document. Index your documents based on embeddings generated from the questions"
   ]
  },
  {
   "attachments": {},
   "cell_type": "markdown",
   "metadata": {},
   "source": []
  }
 ],
 "metadata": {
  "kernelspec": {
   "display_name": ".venv",
   "language": "python",
   "name": "python3"
  },
  "language_info": {
   "codemirror_mode": {
    "name": "ipython",
    "version": 3
   },
   "file_extension": ".py",
   "mimetype": "text/x-python",
   "name": "python",
   "nbconvert_exporter": "python",
   "pygments_lexer": "ipython3",
   "version": "3.10.1"
  },
  "orig_nbformat": 4
 },
 "nbformat": 4,
 "nbformat_minor": 2
}
